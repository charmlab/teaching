{
  "nbformat": 4,
  "nbformat_minor": 0,
  "metadata": {
    "colab": {
      "provenance": []
    },
    "kernelspec": {
      "name": "python3",
      "display_name": "Python 3"
    },
    "language_info": {
      "name": "python"
    }
  },
  "cells": [
    {
      "cell_type": "code",
      "execution_count": null,
      "metadata": {
        "id": "9-BUW6mtcQ-C"
      },
      "outputs": [],
      "source": [
        "import numpy as np\n",
        "import matplotlib.pyplot as plt\n",
        "\n",
        "# Define the true function\n",
        "def f(x):\n",
        "    return np.sin(0.9 * x)\n",
        "\n",
        "# Generate training data\n",
        "np.random.seed(42)\n",
        "X_train = np.random.uniform(-5, 5, 20).reshape(-1, 1)\n",
        "y_train = f(X_train) + np.random.normal(0, 0.1, X_train.shape)\n"
      ]
    },
    {
      "cell_type": "code",
      "source": [
        "\n",
        "# Define the RBF kernel\n",
        "def rbf_kernel(x1, x2, length_scale=1.0, variance=1.0):\n",
        "    sqdist = #TODO: fill here\n",
        "    return variance * np.exp(-0.5 / length_scale**2 * sqdist)\n",
        "\n",
        "# Compute the covariance matrices\n",
        "length_scale = 1.0\n",
        "variance = 1.0\n",
        "noise_variance = 0.01\n",
        "\n",
        "K = rbf_kernel(X_train, X_train, length_scale, variance) + noise_variance * np.eye(len(X_train))\n",
        "K_s = rbf_kernel(\"\"\"TODO: fill here\"\"\")\n",
        "K_ss = rbf_kernel(X_train, X_train, length_scale, variance)\n",
        "\n",
        "# Compute the mean and covariance of the predictive distribution\n",
        "K_inv = np.linalg.inv(K)\n",
        "X_test = np.linspace(-5, 5, 100).reshape(-1, 1)\n",
        "K_s = rbf_kernel(X_train, X_test, length_scale, variance)\n",
        "K_ss = rbf_kernel(X_test, X_test, length_scale, variance)\n",
        "\n",
        "mu_s =\"\"\"TODO: fill here\"\"\"\n",
        "cov_s = \"\"\"TODO: fill here\"\"\"\n",
        "stdv = \"\"\"TODO: fill here\"\"\"\n",
        "\n",
        "# Plot the results\n",
        "plt.figure(figsize=(10, 6))\n",
        "plt.plot(X_train, y_train, 'ro', label='Noisy observations')\n",
        "plt.plot(X_test, f(X_test), 'g--', label='True function')\n",
        "plt.plot(X_test, mu_s, 'b-', label='GPR mean')\n",
        "plt.fill_between(X_test.ravel(),\n",
        "                 mu_s.ravel() - 1.96 * stdv,\n",
        "                 mu_s.ravel() + 1.96 * stdv,\n",
        "                 alpha=0.2, label='95% confidence interval')\n",
        "plt.title('Gaussian Process Regression')\n",
        "plt.xlabel('x')\n",
        "plt.ylabel('f(x)')\n",
        "plt.legend()\n",
        "plt.show()\n"
      ],
      "metadata": {
        "id": "qqn_Eb1kcRfN"
      },
      "execution_count": null,
      "outputs": []
    }
  ]
}