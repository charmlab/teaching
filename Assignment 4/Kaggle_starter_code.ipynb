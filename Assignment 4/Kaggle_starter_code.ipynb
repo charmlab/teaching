{
  "nbformat": 4,
  "nbformat_minor": 0,
  "metadata": {
    "colab": {
      "provenance": []
    },
    "kernelspec": {
      "name": "python3",
      "display_name": "Python 3"
    },
    "language_info": {
      "name": "python"
    }
  },
  "cells": [
    {
      "cell_type": "code",
      "execution_count": null,
      "metadata": {
        "id": "jR8Exh0xildQ"
      },
      "outputs": [],
      "source": [
        "# ==============================================================================\n",
        "# ECE 657: Assignment 4 - Stroke Prediction\n",
        "# STUDENT STARTER CODE\n",
        "# ==============================================================================\n",
        "\n",
        "# --- Import Essential Libraries ---\n",
        "import pandas as pd\n",
        "import numpy as np\n",
        "import matplotlib.pyplot as plt\n",
        "import seaborn as sns\n",
        "\n",
        "# --- Preprocessing & Pipeline ---\n",
        "from sklearn.model_selection import cross_val_score, cross_validate, StratifiedKFold\n",
        "from sklearn.preprocessing import StandardScaler, OneHotEncoder\n",
        "from sklearn.impute import SimpleImputer\n",
        "from sklearn.compose import ColumnTransformer\n",
        "from sklearn.pipeline import Pipeline\n",
        "\n",
        "# --- Machine Learning Models ---\n",
        "from sklearn.tree import DecisionTreeClassifier\n",
        "from sklearn.linear_model import LogisticRegression\n",
        "from sklearn.neighbors import KNeighborsClassifier\n",
        "import xgboost as xgb\n",
        "\n",
        "# --- Set up global parameters ---\n",
        "# Set a random seed for reproducibility\n",
        "RANDOM_STATE = 42\n",
        "# Define the cross-validation strategy\n",
        "# Using StratifiedKFold is good practice for imbalanced datasets\n",
        "CV_SPLITS = 5\n",
        "cv = StratifiedKFold(n_splits=CV_SPLITS, shuffle=True, random_state=RANDOM_STATE)\n",
        "\n",
        "# --- Set Plot Style ---\n",
        "sns.set(style=\"whitegrid\", palette=\"pastel\", font_scale=1.1)\n",
        "plt.rcParams['figure.figsize'] = [10, 6]\n",
        "\n",
        "print(\"✅ Libraries imported and initial setup complete.\")\n",
        "print(f\"Random State: {RANDOM_STATE}\")\n",
        "print(f\"CV Folds: {CV_SPLITS}\")\n",
        "\n",
        "# ==============================================================================\n",
        "# Part 0: Load Data\n",
        "# ==============================================================================\n",
        "\n",
        "# TODO: Load train.csv, test.csv, and sample_submission.csv here\n",
        "# HINT: Use a try-except block to catch FileNotFoundError\n",
        "try:\n",
        "    train_df = pd.read_csv(\"train.csv\")\n",
        "    test_df = pd.read_csv(\"test.csv\")\n",
        "    sample_submission_df = pd.read_csv(\"sample_submission.csv\")\n",
        "    print(\"\\nData loaded successfully!\")\n",
        "    print(f\"Training data shape: {train_df.shape}\")\n",
        "    print(f\"Test data shape: {test_df.shape}\")\n",
        "except FileNotFoundError as e:\n",
        "    print(f\"\\n❌ ERROR: {e}. Please ensure all CSV files are in the correct directory.\")\n",
        "    # Create empty dataframes to avoid further errors in the notebook\n",
        "    train_df = pd.DataFrame()\n",
        "    test_df = pd.DataFrame()\n",
        "\n",
        "# Now you can begin with Part A..."
      ]
    }
  ]
}