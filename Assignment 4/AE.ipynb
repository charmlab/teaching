{
  "cells": [
    {
      "cell_type": "code",
      "execution_count": 36,
      "metadata": {
        "id": "kFAz22bF4BpA"
      },
      "outputs": [],
      "source": [
        "### Import required Libraries\n",
        "\n",
        "import torch\n",
        "import torch.nn as nn\n",
        "import torch.nn.init as init\n",
        "import torch.optim as optim\n",
        "from torchvision import datasets, transforms\n",
        "from torch.utils.data import DataLoader\n",
        "import matplotlib.pyplot as plt\n",
        "\n",
        "import numpy as np\n",
        "import imageio\n",
        "from tqdm import tqdm\n",
        "\n",
        "\n",
        "# Device\n",
        "device = torch.device('cuda' if torch.cuda.is_available() else 'cpu')"
      ]
    },
    {
      "cell_type": "code",
      "execution_count": 39,
      "metadata": {
        "id": "s144J4bQ4FyO"
      },
      "outputs": [],
      "source": [
        "### Function to download and save the required library\n",
        "\n",
        "def get_train_dataset():\n",
        "\n",
        "  # MNIST dataset (images flattened to 784)\n",
        "  transform = transforms.Compose([\n",
        "      transforms.ToTensor(),\n",
        "      transforms.Lambda(lambda x: x.view(-1))  # flatten 28x28 -> 784\n",
        "  ])\n",
        "\n",
        "  train_dataset = datasets.MNIST(root='./data', train=True, transform=transform, download=True)\n",
        "  train_loader = DataLoader(train_dataset, batch_size=128, shuffle=True)\n",
        "\n",
        "  return train_dataset, train_loader, transform"
      ]
    },
    {
      "cell_type": "code",
      "execution_count": 3,
      "metadata": {
        "colab": {
          "base_uri": "https://localhost:8080/"
        },
        "id": "vLPAayJYlgqJ",
        "outputId": "1ece6560-e00d-4a84-9294-77880b487816"
      },
      "outputs": [
        {
          "name": "stderr",
          "output_type": "stream",
          "text": [
            "100%|██████████| 9.91M/9.91M [00:00<00:00, 18.3MB/s]\n",
            "100%|██████████| 28.9k/28.9k [00:00<00:00, 504kB/s]\n",
            "100%|██████████| 1.65M/1.65M [00:00<00:00, 4.65MB/s]\n",
            "100%|██████████| 4.54k/4.54k [00:00<00:00, 12.0MB/s]\n"
          ]
        }
      ],
      "source": [
        "### Getting the training dataset\n",
        "\n",
        "train_dataset, train_loader, transform = get_train_dataset()"
      ]
    },
    {
      "cell_type": "code",
      "execution_count": 4,
      "metadata": {
        "id": "Mxjnd7STlkaV"
      },
      "outputs": [],
      "source": [
        "#Define Bottleneck Autoencoder\n",
        "\n",
        "class AutoencoderBottleneck(nn.Module):\n",
        "    def __init__(self, input_dim, bottleneck_dim):\n",
        "        super().__init__()\n",
        "        self.encoder = nn.Sequential(\n",
        "            nn.Linear(input_dim, 128),\n",
        "            nn.ReLU(),\n",
        "            nn.Linear(128, bottleneck_dim),\n",
        "            nn.ReLU()\n",
        "        )\n",
        "        self.decoder = nn.Sequential(\n",
        "            nn.Linear(bottleneck_dim, 128),\n",
        "            nn.ReLU(),\n",
        "            nn.Linear(128, input_dim),\n",
        "            nn.Sigmoid()  # or none, depending on your data\n",
        "        )\n",
        "\n",
        "    def forward(self, x):\n",
        "        z = self.encoder(x)\n",
        "        x_recon = self.decoder(z)\n",
        "        return x_recon, z\n"
      ]
    },
    {
      "cell_type": "code",
      "execution_count": 5,
      "metadata": {
        "id": "o3e4m9AJl2sT"
      },
      "outputs": [],
      "source": [
        "#Define L2-regularized Autoencoder: Training is important\n",
        "\n",
        "class AutoencoderL2(nn.Module):\n",
        "    def __init__(self, input_dim):\n",
        "        super().__init__()\n",
        "        self.encoder = nn.Sequential(\n",
        "            nn.Linear(input_dim, input_dim),  # same size\n",
        "            nn.ReLU()\n",
        "        )\n",
        "        self.decoder = nn.Sequential(\n",
        "            nn.Linear(input_dim, input_dim),\n",
        "            nn.Sigmoid()\n",
        "        )\n",
        "\n",
        "    def forward(self, x):\n",
        "        z = self.encoder(x)\n",
        "        x_recon = self.decoder(z)\n",
        "        return x_recon, z\n",
        "\n",
        "# Then during training, you manually add L2 regularization:\n",
        "# Example:\n",
        "# loss = criterion(output, input) + lambda_l2 * sum(p.pow(2).sum() for p in model.parameters())\n"
      ]
    },
    {
      "cell_type": "code",
      "execution_count": 6,
      "metadata": {
        "id": "qxANHIT1l4jQ"
      },
      "outputs": [],
      "source": [
        "class AutoencoderL1(nn.Module):\n",
        "    def __init__(self, input_dim):\n",
        "        super().__init__()\n",
        "        self.encoder = nn.Sequential(\n",
        "            nn.Linear(input_dim, input_dim),\n",
        "            nn.ReLU()\n",
        "        )\n",
        "        self.decoder = nn.Sequential(\n",
        "            nn.Linear(input_dim, input_dim),\n",
        "            nn.Sigmoid()\n",
        "        )\n",
        "\n",
        "    def forward(self, x):\n",
        "        z = self.encoder(x)\n",
        "        x_recon = self.decoder(z)\n",
        "        return x_recon, z\n",
        "\n",
        "# During training, manually add L1 penalty:\n",
        "# loss = criterion(output, input) + lambda_l1 * sum(p.abs().sum() for p in model.parameters())\n"
      ]
    },
    {
      "cell_type": "code",
      "execution_count": 7,
      "metadata": {
        "id": "i5fGf-yPl7Z3"
      },
      "outputs": [],
      "source": [
        "class AutoencoderDropout(nn.Module):\n",
        "    def __init__(self, input_dim, dropout_prob=0.3):\n",
        "        super().__init__()\n",
        "        self.encoder = nn.Sequential(\n",
        "            nn.Linear(input_dim, input_dim),\n",
        "            nn.ReLU(),\n",
        "            nn.Dropout(dropout_prob)\n",
        "        )\n",
        "        self.decoder = nn.Sequential(\n",
        "            nn.Linear(input_dim, input_dim),\n",
        "            nn.Sigmoid()\n",
        "        )\n",
        "\n",
        "    def forward(self, x):\n",
        "        z = self.encoder(x)\n",
        "        x_recon = self.decoder(z)\n",
        "        return x_recon, z\n"
      ]
    },
    {
      "cell_type": "code",
      "execution_count": null,
      "metadata": {
        "id": "cUXGzy8fqlpV"
      },
      "outputs": [],
      "source": [
        "#Define Bottleneck Autoencoder\n",
        "class AutoencoderPassthrough(nn.Module):\n",
        "    def __init__(self, input_dim):\n",
        "        super().__init__()\n",
        "        self.encoder = nn.Sequential(\n",
        "            nn.Linear(input_dim, input_dim),\n",
        "        )\n",
        "        self.decoder = nn.Sequential(\n",
        "            nn.Linear(input_dim, input_dim),\n",
        "            nn.Sigmoid()  \n",
        "        )\n",
        "\n",
        "    def forward(self, x):\n",
        "        z = self.encoder(x)\n",
        "        x_recon = self.decoder(z)\n",
        "        return x_recon, z\n"
      ]
    },
    {
      "cell_type": "code",
      "execution_count": 9,
      "metadata": {
        "id": "_iB2DPY3BB7i"
      },
      "outputs": [],
      "source": [
        "def l1_penalty(model, z):\n",
        "  return torch.sum(torch.abs(z))"
      ]
    },
    {
      "cell_type": "code",
      "execution_count": 10,
      "metadata": {
        "id": "V-YbWTZ2BXbl"
      },
      "outputs": [],
      "source": [
        "def l2_penalty(model, z = None):\n",
        "  z = None #this is a dummy variable\n",
        "  return sum(torch.sum(p**2) for p in model_l2.parameters())"
      ]
    },
    {
      "cell_type": "code",
      "execution_count": 11,
      "metadata": {
        "id": "Wmp8UKzu4nSE"
      },
      "outputs": [],
      "source": [
        "def train_loop(model, train_loader, penalty_function = lambda model, z: 0, lambda_penalty_param = 0, epochs = 10):\n",
        "\n",
        "  for epoch in range(epochs):\n",
        "\n",
        "    model.train()\n",
        "    total_loss = 0\n",
        "\n",
        "    for x, _ in train_loader:\n",
        "        x = x.to(device)\n",
        "        optimizer.zero_grad()\n",
        "\n",
        "        output, z = model(x)\n",
        "\n",
        "        loss = criterion(output, x)\n",
        "        loss += penalty_function(model, z) * lambda_penalty_param\n",
        "\n",
        "        loss.backward()\n",
        "        optimizer.step()\n",
        "\n",
        "        total_loss += loss.item()\n",
        "    print(f\"Epoch {epoch+1}: Loss = {total_loss/len(train_loader):.4f}\")"
      ]
    },
    {
      "cell_type": "code",
      "execution_count": 12,
      "metadata": {
        "id": "KQA6Uvpte3Fm"
      },
      "outputs": [],
      "source": [
        "def get_test_dataset():\n",
        "  test_dataset = datasets.MNIST(root='./data', train=False, transform=transform, download=True)\n",
        "  test_loader = DataLoader(test_dataset, batch_size=10, shuffle=True)  # small batch for visualization\n",
        "\n",
        "  return test_dataset, test_loader\n",
        "\n",
        "test_dataset, test_loader = get_test_dataset()"
      ]
    },
    {
      "cell_type": "code",
      "execution_count": 13,
      "metadata": {
        "id": "WK2vqeVfF94C"
      },
      "outputs": [],
      "source": [
        "def evaluate_model(model, test_loader, n = 10, mask_fraction = 0.4, mask_type = 'zero'):\n",
        "\n",
        "  if mask_type not in ['gaussian', 'zero']:\n",
        "    raise ValueError(\"mask_type can only be 'zero' or 'gaussian'\")\n",
        "\n",
        "  model.eval()\n",
        "\n",
        "  test_dataset = datasets.MNIST(root='./data', train=False, transform=transform, download=True)\n",
        "  test_loader = DataLoader(test_dataset, batch_size=10, shuffle=True)  # small batch for visualization\n",
        "\n",
        "  images, _ = next(iter(test_loader))\n",
        "  images = images.to(device)\n",
        "\n",
        "  if mask_type == \"zero\":\n",
        "\n",
        "    mask = (torch.rand_like(images) > mask_fraction).float()\n",
        "    masked_images = images * mask\n",
        "\n",
        "  elif mask_type == \"gaussian\":\n",
        "    mask = (torch.randn_like(images)) * mask_fraction\n",
        "    masked_images = images + mask\n",
        "\n",
        "\n",
        "# No gradient needed for evaluation\n",
        "  with torch.no_grad():\n",
        "    reconstructed, _ = model(masked_images)\n",
        "    reconstructed = reconstructed.cpu()\n",
        "\n",
        "    images = images.cpu()\n",
        "\n",
        "  plt.figure(figsize=(20, 4))\n",
        "  for i in range(n):\n",
        "\n",
        "\n",
        "    # Original\n",
        "    ax = plt.subplot(2, n, i + 1)\n",
        "    plt.imshow(images[i].view(28, 28), cmap=\"gray\")\n",
        "    plt.title(\"Original\")\n",
        "    plt.axis(\"off\")\n",
        "\n",
        "\n",
        "    # Reconstructed\n",
        "    ax = plt.subplot(2, n, i + 1 + n)\n",
        "    plt.imshow(reconstructed[i].view(28, 28), cmap=\"gray\")\n",
        "    plt.title(\"Reconstructed\")\n",
        "    plt.axis(\"off\")\n",
        "\n",
        "  plt.show()\n"
      ]
    },
    {
      "cell_type": "code",
      "execution_count": null,
      "metadata": {
        "colab": {
          "base_uri": "https://localhost:8080/"
        },
        "id": "dpnxhjYOqpxG",
        "outputId": "b3e1990a-ff9f-492a-c744-4ae16fd57951"
      },
      "outputs": [
        {
          "name": "stdout",
          "output_type": "stream",
          "text": [
            "Epoch 1: Loss = 0.0689\n",
            "Epoch 2: Loss = 0.0329\n",
            "Epoch 3: Loss = 0.0234\n",
            "Epoch 4: Loss = 0.0179\n",
            "Epoch 5: Loss = 0.0143\n",
            "Epoch 6: Loss = 0.0116\n",
            "Epoch 7: Loss = 0.0095\n",
            "Epoch 8: Loss = 0.0077\n",
            "Epoch 9: Loss = 0.0063\n",
            "Epoch 10: Loss = 0.0051\n",
            "Epoch 11: Loss = 0.0043\n",
            "Epoch 12: Loss = 0.0037\n",
            "Epoch 13: Loss = 0.0032\n",
            "Epoch 14: Loss = 0.0029\n",
            "Epoch 15: Loss = 0.0026\n",
            "Epoch 16: Loss = 0.0024\n",
            "Epoch 17: Loss = 0.0022\n",
            "Epoch 18: Loss = 0.0020\n",
            "Epoch 19: Loss = 0.0019\n",
            "Epoch 20: Loss = 0.0017\n",
            "Epoch 21: Loss = 0.0016\n",
            "Epoch 22: Loss = 0.0016\n",
            "Epoch 23: Loss = 0.0015\n",
            "Epoch 24: Loss = 0.0014\n",
            "Epoch 25: Loss = 0.0013\n",
            "Epoch 26: Loss = 0.0013\n",
            "Epoch 27: Loss = 0.0012\n",
            "Epoch 28: Loss = 0.0012\n",
            "Epoch 29: Loss = 0.0011\n",
            "Epoch 30: Loss = 0.0011\n",
            "Epoch 31: Loss = 0.0011\n",
            "Epoch 32: Loss = 0.0010\n",
            "Epoch 33: Loss = 0.0010\n",
            "Epoch 34: Loss = 0.0010\n",
            "Epoch 35: Loss = 0.0010\n",
            "Epoch 36: Loss = 0.0009\n",
            "Epoch 37: Loss = 0.0009\n",
            "Epoch 38: Loss = 0.0009\n",
            "Epoch 39: Loss = 0.0009\n",
            "Epoch 40: Loss = 0.0008\n",
            "Epoch 41: Loss = 0.0008\n",
            "Epoch 42: Loss = 0.0008\n",
            "Epoch 43: Loss = 0.0008\n",
            "Epoch 44: Loss = 0.0008\n",
            "Epoch 45: Loss = 0.0008\n",
            "Epoch 46: Loss = 0.0008\n",
            "Epoch 47: Loss = 0.0007\n",
            "Epoch 48: Loss = 0.0007\n",
            "Epoch 49: Loss = 0.0007\n",
            "Epoch 50: Loss = 0.0007\n"
          ]
        }
      ],
      "source": [
        "# Model\n",
        "model_passthrough = AutoencoderPassthrough(input_dim=784).to(device)\n",
        "#model_passthrough.apply(zero_init) #Initialize to zeros, to ensure pathological behavior\n",
        "\n",
        "\n",
        "criterion = nn.MSELoss()\n",
        "optimizer = optim.Adam(model_passthrough.parameters(), lr=7e-5)\n",
        "\n",
        "train_loop(model_passthrough, train_loader, epochs=1)"
      ]
    },
    {
      "cell_type": "code",
      "execution_count": 15,
      "metadata": {
        "colab": {
          "base_uri": "https://localhost:8080/",
          "height": 310
        },
        "id": "xKzIQI28r88E",
        "outputId": "eb988d81-cabe-4757-85fd-7bca8ae34ba7"
      },
      "outputs": [
        {
          "data": {
            "image/png": "[encoded data removed]",
            "text/plain": [
              "<Figure size 2000x400 with 20 Axes>"
            ]
          },
          "metadata": {},
          "output_type": "display_data"
        }
      ],
      "source": [
        "evaluate_model(model_passthrough, test_loader, mask_fraction=0.0, mask_type = \"zero\")"
      ]
    },
    {
      "cell_type": "code",
      "execution_count": null,
      "metadata": {
        "colab": {
          "base_uri": "https://localhost:8080/"
        },
        "id": "W24b_2Ux6CMQ",
        "outputId": "64a771ea-00e3-4a0e-bcf3-a0e48ecee273"
      },
      "outputs": [
        {
          "name": "stdout",
          "output_type": "stream",
          "text": [
            "Epoch 1: Loss = 0.0533\n",
            "Epoch 2: Loss = 0.0253\n",
            "Epoch 3: Loss = 0.0198\n",
            "Epoch 4: Loss = 0.0174\n",
            "Epoch 5: Loss = 0.0160\n"
          ]
        }
      ],
      "source": [
        "# Model\n",
        "model_bottleneck = AutoencoderBottleneck(input_dim=784, bottleneck_dim=1).to(device)\n",
        "criterion = nn.MSELoss()\n",
        "optimizer = optim.Adam(model_bottleneck.parameters(), lr=0)\n",
        "\n",
        "train_loop(model_bottleneck, train_loader, epochs=1)"
      ]
    },
    {
      "cell_type": "code",
      "execution_count": 17,
      "metadata": {
        "colab": {
          "base_uri": "https://localhost:8080/",
          "height": 310
        },
        "id": "m_q-gqmtCKD9",
        "outputId": "e3888a2f-74f7-4794-900d-7f107feb4587"
      },
      "outputs": [
        {
          "data": {
            "image/png": "[encoded data removed]",
            "text/plain": [
              "<Figure size 2000x400 with 20 Axes>"
            ]
          },
          "metadata": {},
          "output_type": "display_data"
        }
      ],
      "source": [
        "evaluate_model(model_bottleneck, test_loader, mask_fraction=0.0, mask_type = \"zero\")"
      ]
    },
    {
      "cell_type": "code",
      "execution_count": null,
      "metadata": {
        "colab": {
          "base_uri": "https://localhost:8080/"
        },
        "id": "Sn2UVp0s7oB3",
        "outputId": "d2d9797f-7459-464b-a628-3504721eb8c9"
      },
      "outputs": [
        {
          "name": "stdout",
          "output_type": "stream",
          "text": [
            "Epoch 1: Loss = 0.0979\n",
            "Epoch 2: Loss = 0.0561\n",
            "Epoch 3: Loss = 0.0499\n",
            "Epoch 4: Loss = 0.0483\n",
            "Epoch 5: Loss = 0.0478\n",
            "Epoch 6: Loss = 0.0477\n",
            "Epoch 7: Loss = 0.0476\n",
            "Epoch 8: Loss = 0.0476\n",
            "Epoch 9: Loss = 0.0475\n",
            "Epoch 10: Loss = 0.0475\n"
          ]
        }
      ],
      "source": [
        "model_l2 = AutoencoderL2(input_dim=784).to(device)\n",
        "criterion = nn.MSELoss()\n",
        "optimizer = optim.Adam(model_l2.parameters(), lr=1e-4)\n",
        "\n",
        "train_loop(model_l2, train_loader, penalty_function=l2_penalty, lambda_penalty_param=0, epochs = 1)"
      ]
    },
    {
      "cell_type": "code",
      "execution_count": 19,
      "metadata": {
        "colab": {
          "base_uri": "https://localhost:8080/",
          "height": 310
        },
        "id": "wjYdNy_p7vN0",
        "outputId": "8de7adda-5b55-44d1-e3ac-7b84d11290b1"
      },
      "outputs": [
        {
          "data": {
            "image/png": "[encoded data removed]",
            "text/plain": [
              "<Figure size 2000x400 with 20 Axes>"
            ]
          },
          "metadata": {},
          "output_type": "display_data"
        }
      ],
      "source": [
        "evaluate_model(model_l2, test_loader, mask_fraction=0.0, mask_type = 'zero')"
      ]
    },
    {
      "cell_type": "code",
      "execution_count": null,
      "metadata": {
        "colab": {
          "base_uri": "https://localhost:8080/"
        },
        "id": "aJaMwjoJ82oC",
        "outputId": "eda7be92-42b5-4264-8065-a86ac10254df"
      },
      "outputs": [
        {
          "name": "stdout",
          "output_type": "stream",
          "text": [
            "Epoch 1: Loss = 0.0998\n",
            "Epoch 2: Loss = 0.0541\n",
            "Epoch 3: Loss = 0.0483\n",
            "Epoch 4: Loss = 0.0452\n",
            "Epoch 5: Loss = 0.0432\n",
            "Epoch 6: Loss = 0.0417\n",
            "Epoch 7: Loss = 0.0405\n",
            "Epoch 8: Loss = 0.0395\n",
            "Epoch 9: Loss = 0.0386\n",
            "Epoch 10: Loss = 0.0376\n"
          ]
        }
      ],
      "source": [
        "model_l1 = AutoencoderL1(input_dim=784).to(device)\n",
        "criterion = nn.MSELoss()\n",
        "optimizer = optim.Adam(model_l1.parameters(), lr=0)\n",
        "\n",
        "train_loop(model_l1, train_loader, penalty_function=l1_penalty, lambda_penalty_param=0, epochs = 0)#7e-6"
      ]
    },
    {
      "cell_type": "code",
      "execution_count": 22,
      "metadata": {
        "id": "wkjOpDnca0tm"
      },
      "outputs": [],
      "source": [
        "def inspect_latent_representation(model, idx = 0):\n",
        "  _, z = model(test_dataset[idx][0].to(device))\n",
        "  return z"
      ]
    },
    {
      "cell_type": "code",
      "execution_count": 23,
      "metadata": {
        "colab": {
          "base_uri": "https://localhost:8080/"
        },
        "id": "t9zVJx1Ylswv",
        "outputId": "71d34a6b-d235-4878-b3d7-8eb565b30e3c"
      },
      "outputs": [
        {
          "data": {
            "text/plain": [
              "tensor([0.0000, 0.0000, 0.0000, 0.0000, 0.0000, 0.0000, 0.0000, 0.0000, 0.0000,\n",
              "        0.0000, 0.0000, 0.0000, 0.0000, 0.0000, 0.0000, 0.0000, 0.0000, 0.0000,\n",
              "        0.0000, 0.0000, 0.0000, 0.0000, 0.0000, 0.0000, 0.0000, 0.0000, 0.0000,\n",
              "        0.0000, 0.0000, 0.0000, 0.0000, 0.0000, 0.0000, 0.0000, 0.0000, 0.0000,\n",
              "        0.0000, 0.0000, 0.0000, 0.0000, 0.0000, 0.0000, 0.0000, 0.0000, 0.0000,\n",
              "        0.0000, 0.0000, 0.0000, 0.0000, 0.0000, 0.0000, 0.0000, 0.0000, 0.0000,\n",
              "        0.0000, 0.0000, 0.0000, 0.0000, 0.0000, 0.0000, 0.0000, 0.0000, 0.0000,\n",
              "        0.0000, 0.0000, 0.0000, 0.0000, 0.0000, 0.0000, 0.0000, 0.0000, 0.0000,\n",
              "        0.0000, 0.0000, 0.2893, 0.0000, 0.0000, 0.0000, 0.0000, 0.0000, 0.0000,\n",
              "        0.0000, 0.0000, 0.0000, 0.0000, 0.0000, 0.0000, 0.0000, 0.0000, 0.0000,\n",
              "        0.0000, 0.0000, 0.0000, 0.0000, 0.0000, 0.0000, 0.0000, 0.0000, 0.0000,\n",
              "        0.0000, 0.0000, 0.0000, 0.0000, 0.0000, 0.0000, 0.0000, 0.0000, 0.0000,\n",
              "        0.0000, 0.0000, 0.0000, 0.0000, 0.0000, 0.0000, 0.0000, 0.0000, 0.0000,\n",
              "        0.0000, 0.0000, 0.0000, 0.0000, 0.0000, 0.0000, 0.0000, 0.0000, 0.0000,\n",
              "        0.0000, 0.0000, 0.0000, 0.0000, 0.0000, 0.0000, 0.0000, 0.0000, 0.0000,\n",
              "        0.0000, 0.8612, 0.0000, 0.0000, 0.0000, 0.0000, 0.0000, 0.0000, 0.0000,\n",
              "        0.0000, 0.0000, 0.0000, 0.0000, 0.0000, 0.0000, 0.0000, 0.0000, 0.0000,\n",
              "        0.0000, 0.0000, 0.0000, 0.0000, 0.0000, 1.6883, 0.0000, 0.0000, 0.0000,\n",
              "        0.0000, 0.0000, 0.0000, 0.0000, 0.0000, 0.0000, 0.0000, 0.0000, 0.0000,\n",
              "        0.0000, 0.0000, 0.0000, 0.0000, 0.0000, 0.0000, 0.0000, 0.0000, 0.0000,\n",
              "        0.0000, 0.0000, 0.0000, 0.0000, 0.0000, 0.0000, 0.0000, 0.0000, 0.0000,\n",
              "        0.0000, 0.0000, 0.0000, 0.0000, 0.0000, 0.0000, 0.0000, 0.0000, 0.0000,\n",
              "        0.0000, 0.0000, 0.0000, 0.0000, 0.0000, 0.0000, 0.0000, 0.0000, 0.0000,\n",
              "        0.0000, 0.0000, 0.0000, 0.0000, 0.0000, 0.0000, 0.0000, 0.0000, 0.0000,\n",
              "        0.0000, 0.0000, 0.0000, 0.0000, 0.0000, 0.0000, 0.0000, 0.0000, 0.0000,\n",
              "        0.0000, 0.0000, 0.0000, 0.0000, 0.0000, 0.0000, 0.0000, 0.0000, 0.0000,\n",
              "        0.0000, 0.0000, 0.0000, 0.0000, 0.0000, 0.0000, 0.0000, 0.0000, 0.0000,\n",
              "        0.0000, 0.0969, 0.0000, 0.0000, 0.0000, 0.0000, 0.0000, 0.0000, 0.0000,\n",
              "        0.0000, 0.0000, 0.0000, 0.0000, 0.0000, 0.0000, 0.0000, 0.0000, 0.0000,\n",
              "        0.0000, 0.0000, 0.0000, 0.0000, 0.0000, 0.0000, 0.0000, 0.0000, 0.0000,\n",
              "        0.0000, 0.0000, 1.6263, 0.0000, 0.0000, 0.0000, 0.0000, 0.0000, 0.0000,\n",
              "        0.0000, 0.0000, 0.0000, 0.0000, 0.0000, 0.0000, 0.0000, 0.0000, 0.0000,\n",
              "        0.0000, 0.0000, 0.0000, 0.0000, 0.0000, 0.0000, 0.0000, 0.0000, 0.0000,\n",
              "        0.0000, 0.0000, 0.0000, 0.0000, 0.0000, 0.0000, 0.0000, 0.0000, 0.0000,\n",
              "        0.0000, 0.0000, 0.0000, 0.0000, 0.0000, 0.0000, 0.0000, 0.0000, 0.0000,\n",
              "        0.0000, 0.0000, 0.0000, 0.0000, 0.0000, 0.0000, 0.0000, 0.0000, 0.0000,\n",
              "        0.0000, 0.0000, 0.0000, 0.0000, 0.0000, 0.0000, 0.0000, 0.0000, 0.0000,\n",
              "        0.0000, 0.0000, 0.0000, 0.0000, 0.0000, 0.0000, 0.0000, 0.0000, 0.0000,\n",
              "        0.0000, 0.0000, 0.0000, 0.0000, 0.0000, 0.0000, 0.0000, 0.0000, 0.0000,\n",
              "        0.0000, 0.0000, 0.0000, 0.0000, 0.0000, 0.0000, 0.0000, 0.0000, 0.0000,\n",
              "        0.0000, 0.0000, 0.0000, 0.0000, 0.0000, 0.0000, 0.0000, 0.0000, 0.0000,\n",
              "        0.0000, 0.0000, 0.0000, 0.0000, 0.0000, 0.0000, 0.0000, 0.0000, 0.0000,\n",
              "        0.0000, 0.0000, 0.0000, 0.0000, 0.0000, 0.0000, 0.0000, 0.0000, 0.0000,\n",
              "        0.0000, 0.0000, 0.0000, 0.0000, 0.0000, 0.0000, 0.0000, 0.0000, 0.0000,\n",
              "        0.0000, 0.0000, 0.0000, 0.0000, 0.0000, 0.0000, 0.0000, 0.0000, 0.0000,\n",
              "        0.0000, 0.0000, 2.0097, 0.0000, 0.0000, 0.0000, 0.0000, 0.0000, 0.0000,\n",
              "        0.0000, 0.0000, 0.0000, 0.0000, 0.0000, 0.0000, 0.0000, 0.0000, 0.0000,\n",
              "        0.0000, 0.0000, 0.0000, 0.0000, 0.0000, 0.0000, 0.0000, 0.0000, 0.0000,\n",
              "        0.0000, 0.0000, 0.0000, 0.0000, 0.0000, 0.0000, 0.0000, 0.0000, 0.0000,\n",
              "        0.0000, 0.0000, 0.0000, 0.0000, 0.0000, 0.0000, 0.0000, 0.0000, 0.0000,\n",
              "        0.0000, 0.0000, 0.0000, 0.0000, 0.0000, 0.0000, 0.0000, 0.0000, 0.0000,\n",
              "        0.0000, 0.0000, 0.0000, 0.0000, 0.0000, 0.0000, 0.0000, 0.0000, 0.0000,\n",
              "        0.0000, 0.0000, 0.0000, 0.0000, 0.0000, 0.0000, 0.0000, 0.0000, 0.0000,\n",
              "        0.0000, 0.0000, 0.0000, 0.0000, 0.0000, 0.0000, 0.0000, 0.0000, 0.0000,\n",
              "        0.0000, 0.0000, 0.0000, 0.0000, 0.0000, 0.0000, 0.0000, 0.0000, 0.0000,\n",
              "        0.0000, 0.0000, 0.0000, 0.0000, 0.0000, 0.0000, 0.0000, 0.0000, 0.0000,\n",
              "        0.0000, 0.0000, 0.0000, 0.0000, 0.0000, 0.0000, 0.0000, 0.0000, 0.0000,\n",
              "        0.0000, 0.0000, 0.0000, 0.0000, 0.0000, 0.0000, 0.0000, 0.0000, 0.0000,\n",
              "        0.0000, 0.0000, 0.0000, 0.0000, 0.0000, 0.0000, 0.0000, 0.0000, 0.0000,\n",
              "        0.0000, 0.0000, 0.0000, 0.0000, 0.0000, 0.0000, 0.0000, 0.0000, 0.0000,\n",
              "        0.0000, 0.0000, 0.0000, 0.0000, 0.0000, 0.0000, 0.0000, 0.0000, 0.0000,\n",
              "        0.0000, 0.0000, 0.0000, 0.0000, 0.0000, 0.0000, 0.0000, 0.0000, 0.0000,\n",
              "        0.0000, 0.0000, 0.0000, 0.0000, 0.0000, 0.0000, 0.0000, 0.0000, 0.0000,\n",
              "        0.0000, 0.0000, 0.0000, 0.0000, 0.0000, 0.0000, 0.0000, 0.0000, 0.0000,\n",
              "        0.0000, 0.0000, 0.0000, 0.0000, 0.0000, 0.0000, 0.0000, 0.0000, 0.0000,\n",
              "        0.0000, 0.0000, 0.0000, 0.0000, 0.0000, 0.0000, 0.0000, 0.0000, 0.0000,\n",
              "        0.0000, 0.0000, 0.0000, 0.0000, 0.0000, 0.0000, 0.0000, 0.0000, 0.0000,\n",
              "        0.0000, 0.0000, 0.0000, 0.0000, 0.0000, 0.0000, 0.0000, 0.0000, 0.0000,\n",
              "        0.0000, 0.0000, 0.0000, 0.0000, 0.0000, 0.0000, 0.0000, 0.0000, 0.0000,\n",
              "        0.0000, 0.0000, 0.0000, 0.0000, 0.0000, 0.0000, 0.0000, 0.0000, 0.0000,\n",
              "        0.0000, 0.0000, 0.0000, 0.0000, 0.0000, 0.0000, 0.0000, 0.0000, 0.0000,\n",
              "        0.0000, 0.0000, 0.0000, 0.0000, 0.0000, 0.0000, 0.0000, 0.0000, 0.0000,\n",
              "        0.0000, 0.0000, 0.0000, 0.0000, 0.0000, 0.0000, 0.0000, 0.0000, 0.0000,\n",
              "        2.3427, 0.0000, 0.0000, 0.0000, 0.0000, 0.0000, 0.0000, 0.0000, 0.0000,\n",
              "        0.0000, 0.0000, 0.0000, 0.0000, 0.0000, 0.0000, 0.0000, 0.0000, 0.0000,\n",
              "        0.0000, 0.0000, 0.0000, 0.0000, 0.0000, 0.0000, 0.0000, 0.0000, 0.0000,\n",
              "        0.0000, 0.0000, 0.0000, 0.0000, 0.0000, 0.0000, 0.0833, 0.0000, 0.0000,\n",
              "        0.0000, 0.0000, 0.0000, 0.0000, 0.0000, 0.0000, 0.0000, 0.0000, 0.0000,\n",
              "        0.0000, 0.0000, 0.0000, 0.0000, 0.0000, 0.0000, 0.0000, 0.6764, 0.0000,\n",
              "        0.0000, 0.0000, 0.0000, 0.0000, 0.0000, 0.0000, 0.0000, 0.0000, 0.0000,\n",
              "        0.0000, 1.9784, 0.0000, 0.0000, 0.0000, 0.0000, 0.0000, 0.0000, 0.0000,\n",
              "        0.0000, 0.0000, 0.0000, 0.0000, 0.0000, 0.0000, 0.0000, 0.0000, 0.0000,\n",
              "        0.0000, 0.0000, 0.0000, 0.0000, 0.0000, 0.0000, 0.0000, 0.0000, 0.0000,\n",
              "        0.0000, 0.0000, 0.0000, 0.0000, 0.0000, 0.0000, 0.0000, 0.0000, 0.0000,\n",
              "        0.0000, 0.0000, 0.0000, 0.0000, 0.0000, 0.0000, 0.0000, 0.0000, 0.0000,\n",
              "        0.0000, 0.0000, 0.0000, 0.0000, 0.0000, 0.0000, 0.0000, 0.0000, 0.0000,\n",
              "        0.0000, 0.0000, 0.0000, 0.0000, 0.0000, 0.0000, 0.0000, 0.0000, 0.0000,\n",
              "        0.0000], device='cuda:0', grad_fn=<ReluBackward0>)"
            ]
          },
          "execution_count": 23,
          "metadata": {},
          "output_type": "execute_result"
        }
      ],
      "source": [
        "inspect_latent_representation(model_l1, idx = 10)"
      ]
    },
    {
      "cell_type": "code",
      "execution_count": 24,
      "metadata": {
        "colab": {
          "base_uri": "https://localhost:8080/",
          "height": 310
        },
        "id": "ycg7Vhf-8-gV",
        "outputId": "62967a89-0453-4856-d2d7-5a7b0e1a4dc8"
      },
      "outputs": [
        {
          "data": {
            "image/png": "[encoded data removed]",
            "text/plain": [
              "<Figure size 2000x400 with 20 Axes>"
            ]
          },
          "metadata": {},
          "output_type": "display_data"
        }
      ],
      "source": [
        "evaluate_model(model_l1, test_loader, mask_fraction=0.0, mask_type='zero')"
      ]
    },
    {
      "cell_type": "code",
      "execution_count": null,
      "metadata": {
        "colab": {
          "base_uri": "https://localhost:8080/"
        },
        "id": "rmNVc04d926r",
        "outputId": "25ef28e9-f81a-4191-909e-2d9cc2e00ce1"
      },
      "outputs": [
        {
          "name": "stdout",
          "output_type": "stream",
          "text": [
            "Epoch 1: Loss = 0.0358\n",
            "Epoch 2: Loss = 0.0218\n",
            "Epoch 3: Loss = 0.0201\n",
            "Epoch 4: Loss = 0.0191\n",
            "Epoch 5: Loss = 0.0185\n"
          ]
        }
      ],
      "source": [
        "model_dropout = AutoencoderDropout(input_dim=784, dropout_prob=0).to(device)\n",
        "criterion = nn.MSELoss()\n",
        "\n",
        "optimizer = optim.Adam(model_dropout.parameters(), lr=0)\n",
        "\n",
        "train_loop(model_dropout, train_loader, epochs = 1)"
      ]
    },
    {
      "cell_type": "code",
      "execution_count": 26,
      "metadata": {
        "colab": {
          "base_uri": "https://localhost:8080/",
          "height": 310
        },
        "id": "4lSdB7fH_vQL",
        "outputId": "1e1c976c-dbad-4e7c-abda-f38e902457d6"
      },
      "outputs": [
        {
          "data": {
            "image/png": "[encoded data removed]",
            "text/plain": [
              "<Figure size 2000x400 with 20 Axes>"
            ]
          },
          "metadata": {},
          "output_type": "display_data"
        }
      ],
      "source": [
        "evaluate_model(model_dropout, test_loader, mask_fraction=0.5, mask_type='zero')"
      ]
    },
    {
      "cell_type": "code",
      "execution_count": null,
      "metadata": {
        "id": "EPlpaLq6qCSY"
      },
      "outputs": [],
      "source": [
        "def generate_latent_interpolation_gif(model, dataset, device,\n",
        "                                       idx1=0, idx2=1,\n",
        "                                       n_frames=30,\n",
        "                                       output_filename='latent_interpolation.gif',\n",
        "                                       fps=10):\n",
        "\n",
        "    model.eval()\n",
        "\n",
        "    with torch.no_grad():\n",
        "        x1, _ = dataset[idx1]\n",
        "        x2, _ = dataset[idx2]\n",
        "        x1, x2 = x1.to(device), x2.to(device)\n",
        "\n",
        "        _, z1 = model(x1)\n",
        "        _, z2 = model(x2)\n",
        "\n",
        "    alphas = np.linspace(0, 1, n_frames)\n",
        "    frames = []\n",
        "\n",
        "    for alpha in tqdm(alphas, desc=\"Generating frames\"):\n",
        "        z_alpha = z1 + alpha * (z2 - z1)\n",
        "        with torch.no_grad():\n",
        "            output = model.decoder(z_alpha)\n",
        "        output_image = output.view(28, 28).cpu().numpy()\n",
        "\n",
        "        fig, ax = plt.subplots(figsize=(2, 2))\n",
        "        ax.imshow(output_image, cmap='gray')\n",
        "        ax.axis('off')\n",
        "        fig.tight_layout(pad=0)\n",
        "\n",
        "        fig.canvas.draw()\n",
        "        frame = np.array(fig.canvas.buffer_rgba())  # <- this line changed\n",
        "        frames.append(frame)\n",
        "        plt.close(fig)\n",
        "\n",
        "    imageio.mimsave(output_filename, frames, fps=fps)\n",
        "    print(f\"GIF saved as {output_filename}\")\n"
      ]
    },
    {
      "cell_type": "code",
      "execution_count": null,
      "metadata": {
        "colab": {
          "base_uri": "https://localhost:8080/"
        },
        "id": "Y9IIKDRQrXcj",
        "outputId": "a93dbde0-427c-4cd2-8216-b6771b785ad5"
      },
      "outputs": [
        {
          "name": "stderr",
          "output_type": "stream",
          "text": [
            "Generating frames: 100%|██████████| 30/30 [00:00<00:00, 85.44it/s]\n"
          ]
        },
        {
          "name": "stdout",
          "output_type": "stream",
          "text": [
            "GIF saved as AutoencoderBottleneck-0.gif\n"
          ]
        },
        {
          "name": "stderr",
          "output_type": "stream",
          "text": [
            "Generating frames: 100%|██████████| 30/30 [00:00<00:00, 59.16it/s]\n"
          ]
        },
        {
          "name": "stdout",
          "output_type": "stream",
          "text": [
            "GIF saved as AutoencoderL2-0.gif\n"
          ]
        },
        {
          "name": "stderr",
          "output_type": "stream",
          "text": [
            "Generating frames: 100%|██████████| 30/30 [00:00<00:00, 90.29it/s]\n"
          ]
        },
        {
          "name": "stdout",
          "output_type": "stream",
          "text": [
            "GIF saved as AutoencoderL1-0.gif\n"
          ]
        },
        {
          "name": "stderr",
          "output_type": "stream",
          "text": [
            "Generating frames: 100%|██████████| 30/30 [00:00<00:00, 56.43it/s]\n"
          ]
        },
        {
          "name": "stdout",
          "output_type": "stream",
          "text": [
            "GIF saved as AutoencoderDropout-0.gif\n"
          ]
        },
        {
          "name": "stderr",
          "output_type": "stream",
          "text": [
            "Generating frames: 100%|██████████| 30/30 [00:00<00:00, 88.84it/s]\n"
          ]
        },
        {
          "name": "stdout",
          "output_type": "stream",
          "text": [
            "GIF saved as AutoencoderPassthrough-0.gif\n"
          ]
        },
        {
          "name": "stderr",
          "output_type": "stream",
          "text": [
            "Generating frames: 100%|██████████| 30/30 [00:00<00:00, 86.22it/s]\n"
          ]
        },
        {
          "name": "stdout",
          "output_type": "stream",
          "text": [
            "GIF saved as AutoencoderBottleneck-1.gif\n"
          ]
        },
        {
          "name": "stderr",
          "output_type": "stream",
          "text": [
            "Generating frames: 100%|██████████| 30/30 [00:00<00:00, 48.17it/s]\n"
          ]
        },
        {
          "name": "stdout",
          "output_type": "stream",
          "text": [
            "GIF saved as AutoencoderL2-1.gif\n"
          ]
        },
        {
          "name": "stderr",
          "output_type": "stream",
          "text": [
            "Generating frames: 100%|██████████| 30/30 [00:00<00:00, 60.44it/s]\n"
          ]
        },
        {
          "name": "stdout",
          "output_type": "stream",
          "text": [
            "GIF saved as AutoencoderL1-1.gif\n"
          ]
        },
        {
          "name": "stderr",
          "output_type": "stream",
          "text": [
            "Generating frames: 100%|██████████| 30/30 [00:00<00:00, 61.67it/s]\n"
          ]
        },
        {
          "name": "stdout",
          "output_type": "stream",
          "text": [
            "GIF saved as AutoencoderDropout-1.gif\n"
          ]
        },
        {
          "name": "stderr",
          "output_type": "stream",
          "text": [
            "Generating frames: 100%|██████████| 30/30 [00:00<00:00, 34.42it/s]\n"
          ]
        },
        {
          "name": "stdout",
          "output_type": "stream",
          "text": [
            "GIF saved as AutoencoderPassthrough-1.gif\n"
          ]
        },
        {
          "name": "stderr",
          "output_type": "stream",
          "text": [
            "Generating frames: 100%|██████████| 30/30 [00:00<00:00, 88.73it/s]\n"
          ]
        },
        {
          "name": "stdout",
          "output_type": "stream",
          "text": [
            "GIF saved as AutoencoderBottleneck-2.gif\n"
          ]
        },
        {
          "name": "stderr",
          "output_type": "stream",
          "text": [
            "Generating frames: 100%|██████████| 30/30 [00:00<00:00, 87.78it/s]\n"
          ]
        },
        {
          "name": "stdout",
          "output_type": "stream",
          "text": [
            "GIF saved as AutoencoderL2-2.gif\n"
          ]
        },
        {
          "name": "stderr",
          "output_type": "stream",
          "text": [
            "Generating frames: 100%|██████████| 30/30 [00:00<00:00, 88.11it/s]\n"
          ]
        },
        {
          "name": "stdout",
          "output_type": "stream",
          "text": [
            "GIF saved as AutoencoderL1-2.gif\n"
          ]
        },
        {
          "name": "stderr",
          "output_type": "stream",
          "text": [
            "Generating frames: 100%|██████████| 30/30 [00:00<00:00, 41.85it/s]\n"
          ]
        },
        {
          "name": "stdout",
          "output_type": "stream",
          "text": [
            "GIF saved as AutoencoderDropout-2.gif\n"
          ]
        },
        {
          "name": "stderr",
          "output_type": "stream",
          "text": [
            "Generating frames: 100%|██████████| 30/30 [00:00<00:00, 86.90it/s]\n"
          ]
        },
        {
          "name": "stdout",
          "output_type": "stream",
          "text": [
            "GIF saved as AutoencoderPassthrough-2.gif\n"
          ]
        },
        {
          "name": "stderr",
          "output_type": "stream",
          "text": [
            "Generating frames: 100%|██████████| 30/30 [00:00<00:00, 85.98it/s]\n"
          ]
        },
        {
          "name": "stdout",
          "output_type": "stream",
          "text": [
            "GIF saved as AutoencoderBottleneck-3.gif\n"
          ]
        },
        {
          "name": "stderr",
          "output_type": "stream",
          "text": [
            "Generating frames: 100%|██████████| 30/30 [00:00<00:00, 89.58it/s]\n"
          ]
        },
        {
          "name": "stdout",
          "output_type": "stream",
          "text": [
            "GIF saved as AutoencoderL2-3.gif\n"
          ]
        },
        {
          "name": "stderr",
          "output_type": "stream",
          "text": [
            "Generating frames: 100%|██████████| 30/30 [00:00<00:00, 86.50it/s]\n"
          ]
        },
        {
          "name": "stdout",
          "output_type": "stream",
          "text": [
            "GIF saved as AutoencoderL1-3.gif\n"
          ]
        },
        {
          "name": "stderr",
          "output_type": "stream",
          "text": [
            "Generating frames: 100%|██████████| 30/30 [00:00<00:00, 35.95it/s]\n"
          ]
        },
        {
          "name": "stdout",
          "output_type": "stream",
          "text": [
            "GIF saved as AutoencoderDropout-3.gif\n"
          ]
        },
        {
          "name": "stderr",
          "output_type": "stream",
          "text": [
            "Generating frames: 100%|██████████| 30/30 [00:00<00:00, 84.61it/s]\n"
          ]
        },
        {
          "name": "stdout",
          "output_type": "stream",
          "text": [
            "GIF saved as AutoencoderPassthrough-3.gif\n"
          ]
        },
        {
          "name": "stderr",
          "output_type": "stream",
          "text": [
            "Generating frames: 100%|██████████| 30/30 [00:00<00:00, 85.61it/s]\n"
          ]
        },
        {
          "name": "stdout",
          "output_type": "stream",
          "text": [
            "GIF saved as AutoencoderBottleneck-4.gif\n"
          ]
        },
        {
          "name": "stderr",
          "output_type": "stream",
          "text": [
            "Generating frames: 100%|██████████| 30/30 [00:00<00:00, 85.17it/s]\n"
          ]
        },
        {
          "name": "stdout",
          "output_type": "stream",
          "text": [
            "GIF saved as AutoencoderL2-4.gif\n"
          ]
        },
        {
          "name": "stderr",
          "output_type": "stream",
          "text": [
            "Generating frames: 100%|██████████| 30/30 [00:00<00:00, 86.91it/s]\n"
          ]
        },
        {
          "name": "stdout",
          "output_type": "stream",
          "text": [
            "GIF saved as AutoencoderL1-4.gif\n"
          ]
        },
        {
          "name": "stderr",
          "output_type": "stream",
          "text": [
            "Generating frames: 100%|██████████| 30/30 [00:00<00:00, 88.66it/s]\n"
          ]
        },
        {
          "name": "stdout",
          "output_type": "stream",
          "text": [
            "GIF saved as AutoencoderDropout-4.gif\n"
          ]
        },
        {
          "name": "stderr",
          "output_type": "stream",
          "text": [
            "Generating frames: 100%|██████████| 30/30 [00:00<00:00, 83.02it/s]\n"
          ]
        },
        {
          "name": "stdout",
          "output_type": "stream",
          "text": [
            "GIF saved as AutoencoderPassthrough-4.gif\n"
          ]
        },
        {
          "name": "stderr",
          "output_type": "stream",
          "text": [
            "Generating frames: 100%|██████████| 30/30 [00:00<00:00, 32.81it/s]\n"
          ]
        },
        {
          "name": "stdout",
          "output_type": "stream",
          "text": [
            "GIF saved as AutoencoderBottleneck-5.gif\n"
          ]
        },
        {
          "name": "stderr",
          "output_type": "stream",
          "text": [
            "Generating frames: 100%|██████████| 30/30 [00:00<00:00, 88.14it/s]\n"
          ]
        },
        {
          "name": "stdout",
          "output_type": "stream",
          "text": [
            "GIF saved as AutoencoderL2-5.gif\n"
          ]
        },
        {
          "name": "stderr",
          "output_type": "stream",
          "text": [
            "Generating frames: 100%|██████████| 30/30 [00:00<00:00, 87.99it/s]\n"
          ]
        },
        {
          "name": "stdout",
          "output_type": "stream",
          "text": [
            "GIF saved as AutoencoderL1-5.gif\n"
          ]
        },
        {
          "name": "stderr",
          "output_type": "stream",
          "text": [
            "Generating frames: 100%|██████████| 30/30 [00:00<00:00, 88.83it/s]\n"
          ]
        },
        {
          "name": "stdout",
          "output_type": "stream",
          "text": [
            "GIF saved as AutoencoderDropout-5.gif\n"
          ]
        },
        {
          "name": "stderr",
          "output_type": "stream",
          "text": [
            "Generating frames: 100%|██████████| 30/30 [00:00<00:00, 58.62it/s]\n"
          ]
        },
        {
          "name": "stdout",
          "output_type": "stream",
          "text": [
            "GIF saved as AutoencoderPassthrough-5.gif\n"
          ]
        },
        {
          "name": "stderr",
          "output_type": "stream",
          "text": [
            "Generating frames: 100%|██████████| 30/30 [00:00<00:00, 59.08it/s]\n"
          ]
        },
        {
          "name": "stdout",
          "output_type": "stream",
          "text": [
            "GIF saved as AutoencoderBottleneck-6.gif\n"
          ]
        },
        {
          "name": "stderr",
          "output_type": "stream",
          "text": [
            "Generating frames: 100%|██████████| 30/30 [00:00<00:00, 58.27it/s]\n"
          ]
        },
        {
          "name": "stdout",
          "output_type": "stream",
          "text": [
            "GIF saved as AutoencoderL2-6.gif\n"
          ]
        },
        {
          "name": "stderr",
          "output_type": "stream",
          "text": [
            "Generating frames: 100%|██████████| 30/30 [00:00<00:00, 53.36it/s]\n"
          ]
        },
        {
          "name": "stdout",
          "output_type": "stream",
          "text": [
            "GIF saved as AutoencoderL1-6.gif\n"
          ]
        },
        {
          "name": "stderr",
          "output_type": "stream",
          "text": [
            "Generating frames: 100%|██████████| 30/30 [00:01<00:00, 27.88it/s]\n"
          ]
        },
        {
          "name": "stdout",
          "output_type": "stream",
          "text": [
            "GIF saved as AutoencoderDropout-6.gif\n"
          ]
        },
        {
          "name": "stderr",
          "output_type": "stream",
          "text": [
            "Generating frames: 100%|██████████| 30/30 [00:00<00:00, 85.46it/s]\n"
          ]
        },
        {
          "name": "stdout",
          "output_type": "stream",
          "text": [
            "GIF saved as AutoencoderPassthrough-6.gif\n"
          ]
        },
        {
          "name": "stderr",
          "output_type": "stream",
          "text": [
            "Generating frames: 100%|██████████| 30/30 [00:00<00:00, 84.35it/s]\n"
          ]
        },
        {
          "name": "stdout",
          "output_type": "stream",
          "text": [
            "GIF saved as AutoencoderBottleneck-7.gif\n"
          ]
        },
        {
          "name": "stderr",
          "output_type": "stream",
          "text": [
            "Generating frames: 100%|██████████| 30/30 [00:00<00:00, 81.28it/s]\n"
          ]
        },
        {
          "name": "stdout",
          "output_type": "stream",
          "text": [
            "GIF saved as AutoencoderL2-7.gif\n"
          ]
        },
        {
          "name": "stderr",
          "output_type": "stream",
          "text": [
            "Generating frames: 100%|██████████| 30/30 [00:00<00:00, 78.76it/s]\n"
          ]
        },
        {
          "name": "stdout",
          "output_type": "stream",
          "text": [
            "GIF saved as AutoencoderL1-7.gif\n"
          ]
        },
        {
          "name": "stderr",
          "output_type": "stream",
          "text": [
            "Generating frames: 100%|██████████| 30/30 [00:00<00:00, 80.00it/s]\n"
          ]
        },
        {
          "name": "stdout",
          "output_type": "stream",
          "text": [
            "GIF saved as AutoencoderDropout-7.gif\n"
          ]
        },
        {
          "name": "stderr",
          "output_type": "stream",
          "text": [
            "Generating frames: 100%|██████████| 30/30 [00:00<00:00, 86.43it/s]\n"
          ]
        },
        {
          "name": "stdout",
          "output_type": "stream",
          "text": [
            "GIF saved as AutoencoderPassthrough-7.gif\n"
          ]
        },
        {
          "name": "stderr",
          "output_type": "stream",
          "text": [
            "Generating frames: 100%|██████████| 30/30 [00:00<00:00, 82.91it/s]\n"
          ]
        },
        {
          "name": "stdout",
          "output_type": "stream",
          "text": [
            "GIF saved as AutoencoderBottleneck-8.gif\n"
          ]
        },
        {
          "name": "stderr",
          "output_type": "stream",
          "text": [
            "Generating frames: 100%|██████████| 30/30 [00:00<00:00, 78.72it/s]\n"
          ]
        },
        {
          "name": "stdout",
          "output_type": "stream",
          "text": [
            "GIF saved as AutoencoderL2-8.gif\n"
          ]
        },
        {
          "name": "stderr",
          "output_type": "stream",
          "text": [
            "Generating frames: 100%|██████████| 30/30 [00:00<00:00, 84.05it/s]\n"
          ]
        },
        {
          "name": "stdout",
          "output_type": "stream",
          "text": [
            "GIF saved as AutoencoderL1-8.gif\n"
          ]
        },
        {
          "name": "stderr",
          "output_type": "stream",
          "text": [
            "Generating frames: 100%|██████████| 30/30 [00:01<00:00, 24.40it/s]\n"
          ]
        },
        {
          "name": "stdout",
          "output_type": "stream",
          "text": [
            "GIF saved as AutoencoderDropout-8.gif\n"
          ]
        },
        {
          "name": "stderr",
          "output_type": "stream",
          "text": [
            "Generating frames: 100%|██████████| 30/30 [00:00<00:00, 88.38it/s]\n"
          ]
        },
        {
          "name": "stdout",
          "output_type": "stream",
          "text": [
            "GIF saved as AutoencoderPassthrough-8.gif\n"
          ]
        },
        {
          "name": "stderr",
          "output_type": "stream",
          "text": [
            "Generating frames: 100%|██████████| 30/30 [00:00<00:00, 84.99it/s]\n"
          ]
        },
        {
          "name": "stdout",
          "output_type": "stream",
          "text": [
            "GIF saved as AutoencoderBottleneck-9.gif\n"
          ]
        },
        {
          "name": "stderr",
          "output_type": "stream",
          "text": [
            "Generating frames: 100%|██████████| 30/30 [00:00<00:00, 90.90it/s]\n"
          ]
        },
        {
          "name": "stdout",
          "output_type": "stream",
          "text": [
            "GIF saved as AutoencoderL2-9.gif\n"
          ]
        },
        {
          "name": "stderr",
          "output_type": "stream",
          "text": [
            "Generating frames: 100%|██████████| 30/30 [00:00<00:00, 88.16it/s]\n"
          ]
        },
        {
          "name": "stdout",
          "output_type": "stream",
          "text": [
            "GIF saved as AutoencoderL1-9.gif\n"
          ]
        },
        {
          "name": "stderr",
          "output_type": "stream",
          "text": [
            "Generating frames: 100%|██████████| 30/30 [00:00<00:00, 85.89it/s]\n"
          ]
        },
        {
          "name": "stdout",
          "output_type": "stream",
          "text": [
            "GIF saved as AutoencoderDropout-9.gif\n"
          ]
        },
        {
          "name": "stderr",
          "output_type": "stream",
          "text": [
            "Generating frames: 100%|██████████| 30/30 [00:00<00:00, 88.38it/s]\n"
          ]
        },
        {
          "name": "stdout",
          "output_type": "stream",
          "text": [
            "GIF saved as AutoencoderPassthrough-9.gif\n"
          ]
        }
      ],
      "source": [
        "### Generate GIFs\n",
        "\n",
        "n_idx = 10\n",
        "for idx in range(n_idx):\n",
        "  idx1 = idx\n",
        "  idx2 = idx1 + 1\n",
        "  for model in [model_bottleneck, model_l2, model_l1, model_dropout, model_passthrough]:\n",
        "    generate_latent_interpolation_gif(model, test_dataset, device,idx1=idx1, idx2=idx2 ,output_filename= f\"{model.__class__.__name__}-{idx}.gif\")"
      ]
    },
    {
      "cell_type": "code",
      "execution_count": 29,
      "metadata": {
        "colab": {
          "base_uri": "https://localhost:8080/"
        },
        "id": "bwZLbtHRaR4a",
        "outputId": "734fbfcb-4c2e-4046-8088-6592a27169f6"
      },
      "outputs": [
        {
          "name": "stdout",
          "output_type": "stream",
          "text": [
            "Done!\n"
          ]
        }
      ],
      "source": [
        "print(\"Done!\")"
      ]
    }
  ],
  "metadata": {
    "accelerator": "GPU",
    "colab": {
      "gpuType": "T4",
      "provenance": []
    },
    "kernelspec": {
      "display_name": "Python 3",
      "name": "python3"
    },
    "language_info": {
      "name": "python"
    }
  },
  "nbformat": 4,
  "nbformat_minor": 0
}
